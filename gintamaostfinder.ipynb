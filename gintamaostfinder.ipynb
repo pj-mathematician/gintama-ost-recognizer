{
  "nbformat": 4,
  "nbformat_minor": 0,
  "metadata": {
    "colab": {
      "name": "gintamaostfinder.ipynb",
      "provenance": [],
      "collapsed_sections": [],
      "authorship_tag": "ABX9TyPFcuKk9wc6s45tn7VILH9o",
      "include_colab_link": true
    },
    "kernelspec": {
      "name": "python3",
      "display_name": "Python 3"
    },
    "language_info": {
      "name": "python"
    }
  },
  "cells": [
    {
      "cell_type": "markdown",
      "metadata": {
        "id": "view-in-github",
        "colab_type": "text"
      },
      "source": [
        "<a href=\"https://colab.research.google.com/github/pj-mathematician/gintama-ost-recognizer/blob/main/gintamaostfinder.ipynb\" target=\"_parent\"><img src=\"https://colab.research.google.com/assets/colab-badge.svg\" alt=\"Open In Colab\"/></a>"
      ]
    },
    {
      "cell_type": "markdown",
      "metadata": {
        "id": "28edfX_CbCnT"
      },
      "source": [
        "##Choose the episode from the dropdown and select the time in Minute:Seconds\n",
        "\n",
        "(for example: to search 15:45 of Episode 4, select 4 in the drop down, slide to 15 in the *Minutes* slider and 45 in the *Seconds* slider"
      ]
    },
    {
      "cell_type": "code",
      "metadata": {
        "id": "les96frxV2Z7",
        "colab": {
          "base_uri": "https://localhost:8080/"
        },
        "outputId": "a16a773b-cdd2-4d38-ecb9-5bc4d097eee0"
      },
      "source": [
        "#@title Search OST by Episode number and time stamp { run: \"auto\", vertical-output: true, display-mode: \"form\" }\n",
        "\n",
        "Episode = 4 #@param ['1','2','3','4','5','6','7','8', '9', '10', '11', '12', '13', '14', '15', '16', '17', '18', '19', '20', '21', '22', '23', '24', '25', '26', '27', '28', '29', '30', '31', '32', '33', '34', '35', '36', '37', '38', '39', '40', '41', '42', '43', '44', '45', '46', '47', '48', '49', '50', '51', '52', '53', '54', '55', '56', '57', '58', '59', '60', '61', '62', '63', '64', '65', '66', '67', '68', '69', '70', '71', '72', '73', '74', '75', '76', '77', '78', '79', '80', '81', '82', '83', '84', '85', '86', '87', '88', '89', '90', '91', '92', '93', '94', '95', '96', '97', '98', '99', '100', '101', '102', '103', '104', '105', '106', '107', '108', '109', '110', '111', '112', '113', '114', '115', '116', '117', '118', '119', '120', '121', '122', '123', '124', '125', '126', '127', '128', '129', '130', '131', '132', '133', '134', '135', '136', '137', '138', '139', '140', '141', '142', '143', '144', '145', '146', '147', '148', '149', '150', '151', '152', '153', '154', '155', '156', '157', '158', '159', '160', '161', '162', '163', '164', '165', '166', '167', '168', '169', '170', '171', '172', '173', '174', '175', '176', '177', '178', '179', '180', '181', '182', '183', '184', '185', '186', '187', '188', '189', '190', '191', '192', '193', '194', '195', '196', '197', '198', '199', '200', '201', '202', '203', '204', '205', '206', '207', '208', '209', '210', '211', '212', '213', '214', '215', '216', '217', '218', '219', '220', '221', '222', '223', '224', '225', '226', '227', '228', '229', '230', '231', '232', '233', '234', '235', '236', '237', '238', '239', '240', '241', '242', '243', '244', '245', '246', '247', '248', '249', '250', '251', '252', '253', '254', '255', '256', '257', '258', '259', '260', '261', '262', '263', '264', '265', '266', '267', '268', '269', '270', '271', '272', '273', '274', '275', '276', '277', '278', '279', '280', '281', '282', '283', '284', '285', '286', '287', '288', '289', '290', '291', '292', '293', '294', '295', '296', '297', '298', '299', '300', '301', '302', '303', '304', '305', '306', '307', '308', '309', '310', '311', '312', '313', '314', '315', '316', '317', '318', '319', '320', '321', '322', '323', '324', '325', '326', '327', '328', '329', '330', '331', '332', '333', '334', '335', '336', '337', '338', '339', '340', '341', '342', '343', '344', '345', '346', '347', '348', '349', '350', '351', '352', '353', '354', '355', '356', '357', '358', '359', '360', '361', '362', '363', '364', '365', '366', '367', '368', '369'] {type:\"raw\"}\n",
        "#@markdown ---\n",
        "Minutes = 15 #@param {type:\"slider\", min:0, max:25, step:1}\n",
        "Seconds = 38 #@param {type:\"slider\", min:0, max:60, step:1}\n",
        "st=\"ok\"\n",
        "#@markdown \n",
        "print(Episode,str(Minutes)+\":\"+str(Seconds))"
      ],
      "execution_count": null,
      "outputs": [
        {
          "output_type": "stream",
          "text": [
            "4 15:38\n"
          ],
          "name": "stdout"
        }
      ]
    },
    {
      "cell_type": "markdown",
      "metadata": {
        "id": "oJglvsMfclHi"
      },
      "source": [
        "###After selecting, click on the play button in the next cell (top left)"
      ]
    },
    {
      "cell_type": "code",
      "metadata": {
        "id": "se1QmoDNdCnj",
        "colab": {
          "base_uri": "https://localhost:8080/"
        },
        "outputId": "91b2eab8-44da-4ae7-f22d-90b1f1b5c5f1"
      },
      "source": [
        "#@title Start! { vertical-output: true, form-width: \"20%\", display-mode: \"form\" }\n",
        "from IPython.utils import io\n",
        "print(\"Starting the program...\")\n",
        "with io.capture_output() as captured:\n",
        "#if True:\n",
        "  !pip install -q kurby\n",
        "  !pip install -q pydub\n",
        "  !apt install sox\n",
        "  !wget https://github.com/tsurumeso/vocal-remover/releases/download/v4.0.0/vocal-remover-v4.0.0.zip\n",
        "  !unzip -u /content/vocal-remover-v4.0.0.zip \n",
        "  !cd vocal-remover && pip install -r requirements.txt\n",
        "  !git clone https://github.com/dpwe/audfprint\n",
        "  !cd audfprint && pip install -r requirements.txt\n",
        "  !wget -O ostp.pklz https://github.com/pj-mathematician/gintama-ost-recognizer/blob/main/ostp.pklz?raw=true\n",
        "print(\"loading episode {}...\".format(Episode))\n",
        "with io.capture_output() as captured:\n",
        "#if True:\n",
        "  !kurby download --nfrom $Episode --nto $Episode gintama\n",
        "print(\"seeking the time stamp and getting the audio...\")\n",
        "with io.capture_output() as captured:\n",
        "#if True:\n",
        "  seconds=int(Minutes)*60 + int(Seconds)\n",
        "  if Episode < 10:\n",
        "    path = \"/content/Gintama/Gintama-S00-E00{}.mp4\".format(Episode)\n",
        "  elif Episode >= 10 and Episode <100:\n",
        "    path = \"/content/Gintama/Gintama-S00-E0{}.mp4\".format(Episode)\n",
        "  else:\n",
        "    path = \"/content/Gintama/Gintama-S00-E{}.mp4\".format(Episode)\n",
        "  !ffmpeg -i $path master.wav\n",
        "  !ffmpeg -ss $seconds -i master.wav -t 20 masterclip.wav\n",
        "  !rm $path\n",
        "  !rm master.wav\n",
        "print(\"audioclip loaded. removing vocals...\")\n",
        "with io.capture_output() as captured:\n",
        "#if True:\n",
        "  !cd vocal-remover && python inference.py --input /content/masterclip.wav --tta --postprocess \n",
        "  !rm masterclip.wav\n",
        "print(\"vocals removed, matching the track in the database...\")\n",
        "with io.capture_output() as captured:\n",
        "#if True:\n",
        "  result = !cd audfprint && python audfprint.py match --dbase /content/ostp.pklz \"/content/vocal-remover/masterclip_Instruments.wav\"\n",
        "  !rm \"/content/vocal-remover/masterclip_Instruments.wav\"\n",
        "  if result[3].startswith(\"Matched\"):\n",
        "    name=result[3][result[3].index(\" as \")+13:result[3].index(\" at \")]\n",
        "  else:\n",
        "    pass\n",
        "if result[3].startswith(\"Matched\"):\n",
        "  print(\"Success!!!! the soundtrack is :\")\n",
        "  print(name)\n",
        "else:\n",
        "  print(\"sorry couldnt identify :/\")"
      ],
      "execution_count": null,
      "outputs": [
        {
          "output_type": "stream",
          "text": [
            "Starting the program...\n",
            "loading episode 4...\n",
            "seeking the time stamp and getting the audio...\n",
            "audioclip loaded. removing vocals...\n",
            "vocals removed, matching the track in the database...\n",
            "Success!!!! the soundtrack is :\n",
            "Gintama Original Soundtrack 1/26 - Marude Anime no Aku no Soshiki Mitai da na.mp3\n"
          ],
          "name": "stdout"
        }
      ]
    }
  ]
}