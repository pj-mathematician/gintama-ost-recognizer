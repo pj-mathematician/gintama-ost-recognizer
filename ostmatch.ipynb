{
  "nbformat": 4,
  "nbformat_minor": 0,
  "metadata": {
    "colab": {
      "name": "ostmatch.ipynb",
      "provenance": [],
      "collapsed_sections": [],
      "authorship_tag": "ABX9TyPuisTzlnngYUR4PRWstlsk",
      "include_colab_link": true
    },
    "kernelspec": {
      "display_name": "Python 3",
      "name": "python3"
    },
    "language_info": {
      "name": "python"
    }
  },
  "cells": [
    {
      "cell_type": "markdown",
      "metadata": {
        "id": "view-in-github",
        "colab_type": "text"
      },
      "source": [
        "<a href=\"https://colab.research.google.com/github/pj-mathematician/gintama-ost-recognizer/blob/main/ostmatch.ipynb\" target=\"_parent\"><img src=\"https://colab.research.google.com/assets/colab-badge.svg\" alt=\"Open In Colab\"/></a>"
      ]
    },
    {
      "cell_type": "code",
      "metadata": {
        "id": "PlI2qkfhGq03"
      },
      "source": [
        "from google.colab import drive\n",
        "drive.mount('/content/drive')"
      ],
      "execution_count": null,
      "outputs": []
    },
    {
      "cell_type": "code",
      "metadata": {
        "id": "O8UTYuBdG2lF"
      },
      "source": [
        "%%capture\n",
        "!pip install -q kurby\n",
        "!pip install -q pydub\n",
        "!apt install sox\n",
        "!wget https://github.com/tsurumeso/vocal-remover/releases/download/v4.0.0/vocal-remover-v4.0.0.zip\n",
        "!unzip -u /content/vocal-remover-v4.0.0.zip \n",
        "!cd vocal-remover && pip install -r requirements.txt\n",
        "!git clone https://github.com/dpwe/audfprint\n",
        "!cd audfprint && pip install -r requirements.txt"
      ],
      "execution_count": null,
      "outputs": []
    },
    {
      "cell_type": "code",
      "metadata": {
        "id": "2ZujNtYyHjET"
      },
      "source": [
        "def download_and_convert(ep):\n",
        "  anime='gintama'\n",
        "  r=!kurby download --nfrom $ep --nto $ep $anime\n",
        "  print(\"Downloaded episode\",ep,\"of\",anime)\n",
        "  #fname=(r[1].replace(\" \",\"\")+\".mp4\")\n",
        "  path=\"/content/Gintama/Gintama-S00-E00{}.mp4\".format(ep)\n",
        "  mname=\"master\"+str(ep)+\".wav\"\n",
        "  f=!ffmpeg -i $path -q:a 0 -map a $mname\n",
        "  #pprint(f)\n",
        "  #!rm $path\n",
        "def batch_convert(eps):\n",
        "  for i in range(1,eps+1):\n",
        "    path=\"/content/Gintama/Gintama-S00-E00{}.mp4\".format(i)\n",
        "    mname=\"master{}.wav\".format(i)\n",
        "    f=!ffmpeg -i $path -q:a 0 -map a $mname\n",
        "    print(mname,\"converted\")\n",
        "    #print(f)\n",
        "def vocal_remove(ep):\n",
        "  path=\"/content/master{}.wav\".format(ep)\n",
        "  path2=\"/content/vocal-remover/master{}_Instruments.wav\".format(ep)\n",
        "  !cd vocal-remover && python inference.py --input $path --tta --postprocess\n",
        "  !cp $path2 /content/drive/MyDrive/audio"
      ],
      "execution_count": null,
      "outputs": []
    },
    {
      "cell_type": "code",
      "metadata": {
        "id": "1TZt1lqcITN4"
      },
      "source": [
        "download_and_convert(5,\"gintama\")"
      ],
      "execution_count": null,
      "outputs": []
    },
    {
      "cell_type": "code",
      "metadata": {
        "colab": {
          "background_save": true
        },
        "id": "mFBkuoRrPvRB"
      },
      "source": [
        "for i in range(2,7):\n",
        "  vocal_remove(i)"
      ],
      "execution_count": null,
      "outputs": []
    },
    {
      "cell_type": "code",
      "metadata": {
        "id": "1SMhwo2wrHDw"
      },
      "source": [
        "!mkdir files"
      ],
      "execution_count": null,
      "outputs": []
    },
    {
      "cell_type": "code",
      "metadata": {
        "id": "XdFYWw25fRrS"
      },
      "source": [
        "from pydub import AudioSegment\n",
        "from pydub.silence import split_on_silence,detect_nonsilent\n",
        "def match_target_amplitude(aChunk, target_dBFS):\n",
        "    ''' Normalize given audio chunk '''\n",
        "    change_in_dBFS = target_dBFS - aChunk.dBFS\n",
        "    return aChunk.apply_gain(change_in_dBFS)\n",
        "for j in range(1,5):\n",
        "  print(j)\n",
        "  fol=\"files{}\".format(j)\n",
        "  !mkdir $fol\n",
        "  song = AudioSegment.from_mp3(\"/content/drive/MyDrive/audio/master{}_Instruments.wav\".format(j))\n",
        "  chunks = split_on_silence (\n",
        "      song, \n",
        "      min_silence_len = 500,\n",
        "      silence_thresh = -50\n",
        "  )\n",
        "  l = detect_nonsilent(song, min_silence_len=500,silence_thresh=-50,seek_step=1)\n",
        "  iter=0\n",
        "  for i, chunk in enumerate(chunks):\n",
        "      silence_chunk = AudioSegment.silent(duration=500)\n",
        "      s,e=l[iter]\n",
        "      start=s/1000\n",
        "      audio_chunk = silence_chunk + chunk + silence_chunk\n",
        "      normalized_chunk = match_target_amplitude(audio_chunk, -20.0)\n",
        "      print(\"/content/files{}/chunk{}_{}.mp3.\".format(j,i,start))\n",
        "      normalized_chunk.export(\n",
        "          \"/content/files{}/chunk{}_{}.mp3\".format(j,i,start),\n",
        "          bitrate = \"192k\",\n",
        "          format = \"mp3\"\n",
        "      )\n",
        "      iter+=1"
      ],
      "execution_count": null,
      "outputs": []
    },
    {
      "cell_type": "code",
      "metadata": {
        "id": "tmR5Jvc9paL1"
      },
      "source": [
        "!zip -r chunk.zip /content/files"
      ],
      "execution_count": null,
      "outputs": []
    },
    {
      "cell_type": "code",
      "metadata": {
        "id": "RCwMlakTuXst"
      },
      "source": [
        "!cp /content/chunk.zip /content/drive/MyDrive/audio"
      ],
      "execution_count": null,
      "outputs": []
    },
    {
      "cell_type": "code",
      "metadata": {
        "id": "Xty24KB6zqbT",
        "colab": {
          "base_uri": "https://localhost:8080/"
        },
        "outputId": "ca89cddf-eb08-4693-a9e1-ed26bd174847"
      },
      "source": [
        "import csv\n",
        "import datetime\n",
        "import os\n",
        "f=open(\"ostdata.csv\",\"w\")\n",
        "writer=csv.writer(f)\n",
        "writer.writerow([\"Episode Number\",\"Time Stamp\",\"OST Name\"])\n",
        "for j in range(1,5):\n",
        "  directory = os.fsencode(\"/content/files{}\".format(j))\n",
        "  for file in os.listdir(directory):\n",
        "    filename = str(os.fsdecode(file))\n",
        "    #print(filename)\n",
        "    st=\"/content/files{}/\".format(j)+filename\n",
        "    #print(st)\n",
        "    result =!cd audfprint && python audfprint.py match --dbase /content/drive/MyDrive/audio/ostp.pklz $st\n",
        "    #for i in result:\n",
        "      #print(i)\n",
        "      #print()\n",
        "    if result[3].startswith(\"Matched\"):\n",
        "      #print(result)\n",
        "      print(st)\n",
        "      a=result[3].index(\" as \")\n",
        "      at=result[3].index(\" at \")\n",
        "      name=(result[3][a+13:at-4:])\n",
        "      print(name)\n",
        "      un=filename.index(\"_\")\n",
        "      mp=filename.index(\"mp3\")\n",
        "      time=filename[un+1:mp-1:]\n",
        "      #print(time)\n",
        "      ti=((str(datetime.timedelta(seconds=int(float(time))))[2::]))\n",
        "      print(ti)\n",
        "      writer.writerow([\"Episode {}\".format(j),ti,name])\n",
        "    else:\n",
        "      pass\n",
        "    writer.writerow([\"\",\"\",\"\"])\n",
        "      #print(\"nope.\")\n",
        "f.close()"
      ],
      "execution_count": null,
      "outputs": [
        {
          "output_type": "stream",
          "text": [
            "/content/files1/chunk0_0.0.mp3\n",
            "Gintama Original Soundtrack 2/01 - Temeera! Hajimeruzee!\n",
            "00:00\n",
            "/content/files1/chunk2_28.326.mp3\n",
            "Gintama Original Soundtrack 1/01 - Temee Raaaa!! Soredemo Gintama Tsuiten no Kaaaa!\n",
            "00:28\n",
            "/content/files1/chunk80_872.017.mp3\n",
            "Gintama Original Soundtrack 1/06 - Uchuu Senkan Otousei\n",
            "14:32\n",
            "/content/files1/chunk124_1285.316.mp3\n",
            "Gintama Original Soundtrack 1/22 - Kenkatte no wa yoo Nani ka wo Mamoru Tameni Yarumon Daro ga\n",
            "21:25\n",
            "/content/files1/chunk13_328.208.mp3\n",
            "Gintama Original Soundtrack 1/01 - Temee Raaaa!! Soredemo Gintama Tsuiten no Kaaaa!\n",
            "05:28\n",
            "/content/files1/chunk112_1137.585.mp3\n",
            "Gintama Original Soundtrack 1/23 - Dura Janai Katsura daaa!!\n",
            "18:57\n",
            "/content/files1/chunk11_212.945.mp3\n",
            "Gintama Original Soundtrack 1/02 - Pray (TV version)\n",
            "03:32\n",
            "/content/files1/chunk29_492.37.mp3\n",
            "Gintama Original Soundtrack 1/28 - Kenka wa Guu de Yarubeshi\n",
            "08:12\n",
            "/content/files1/chunk77_854.825.mp3\n",
            "Gintama Original Soundtrack 1/06 - Uchuu Senkan Otousei\n",
            "14:14\n",
            "/content/files1/chunk103_1057.5.mp3\n",
            "Gintama Original Soundtrack 1/22 - Kenkatte no wa yoo Nani ka wo Mamoru Tameni Yarumon Daro ga\n",
            "17:37\n",
            "/content/files1/chunk67_828.451.mp3\n",
            "Gintama Original Soundtrack 1/21 - Eyecatch Desuzee\n",
            "13:48\n",
            "/content/files1/chunk1_17.306.mp3\n",
            "Gintama Original Soundtrack 1/22 - Kenkatte no wa yoo Nani ka wo Mamoru Tameni Yarumon Daro ga\n",
            "00:17\n",
            "/content/files1/chunk24_450.637.mp3\n",
            "Gintama Original Soundtrack 1/24 - Goyou Aratame de Aru!\n",
            "07:30\n",
            "/content/files1/chunk125_1296.375.mp3\n",
            "Gintama Original Soundtrack 1/22 - Kenkatte no wa yoo Nani ka wo Mamoru Tameni Yarumon Daro ga\n",
            "21:36\n",
            "/content/files1/chunk98_979.015.mp3\n",
            "Gintama Original Soundtrack 1/08 - Hatujouki Desuka Konoyaroo\n",
            "16:19\n",
            "/content/files1/chunk143_1420.276.mp3\n",
            "Gintama Original Soundtrack 1/22 - Kenkatte no wa yoo Nani ka wo Mamoru Tameni Yarumon Daro ga\n",
            "23:40\n",
            "/content/files1/chunk17_400.028.mp3\n",
            "Gintama Original Soundtrack 1/10 - Ah Kimochi Warii, Futsukayoi da na Korya\n",
            "06:40\n",
            "/content/files1/chunk38_560.406.mp3\n",
            "Gintama Original Soundtrack 1/35 - Ore mo, Mou Jump Sotsugyou Shi Nakya Ike nee Toshi da yo naa\n",
            "09:20\n",
            "/content/files1/chunk116_1195.808.mp3\n",
            "Gintama Original Soundtrack 1/26 - Marude Anime no Aku no Soshiki Mitai da na\n",
            "19:55\n",
            "/content/files1/chunk18_412.707.mp3\n",
            "Gintama Original Soundtrack 1/10 - Ah Kimochi Warii, Futsukayoi da na Korya\n",
            "06:52\n",
            "/content/files1/chunk6_170.958.mp3\n",
            "Gintama Original Soundtrack 1/31 - Banji Ya Gin Chan to wa Ore Tachi no Koto da!\n",
            "02:50\n",
            "/content/files1/chunk12_307.76.mp3\n",
            "Gintama Original Soundtrack 1/02 - Pray (TV version)\n",
            "05:07\n",
            "/content/files2/chunk83_552.179.mp3\n",
            "Gintama Original Soundtrack 1/21 - Eyecatch Desuzee\n",
            "09:12\n",
            "/content/files2/chunk107_1069.286.mp3\n",
            "Gintama Original Soundtrack 1/18 - Sesuji Nobashite Iki te Kudake Yotsu!!\n",
            "17:49\n",
            "/content/files2/chunk55_217.224.mp3\n",
            "Gintama Original Soundtrack 1/30 - Mukashi no Yuujin ga Kawarazu ni iru Toiu no mo Waruku nai Mono da na...\n",
            "03:37\n",
            "/content/files2/chunk116_1226.155.mp3\n",
            "Gintama Original Soundtrack 1/19 - Mata Sore Kaii!\n",
            "20:26\n",
            "/content/files2/chunk102_888.792.mp3\n",
            "Gintama Original Soundtrack 1/25 - Taigi wo Tousu Mae ni Manaa wo Touse Manaa wo\n",
            "14:48\n",
            "/content/files2/chunk56_253.465.mp3\n",
            "Gintama Original Soundtrack 1/30 - Mukashi no Yuujin ga Kawarazu ni iru Toiu no mo Waruku nai Mono da na...\n",
            "04:13\n",
            "/content/files2/chunk93_650.702.mp3\n",
            "Gintama Original Soundtrack 1/25 - Taigi wo Tousu Mae ni Manaa wo Touse Manaa wo\n",
            "10:50\n",
            "/content/files2/chunk120_1280.66.mp3\n",
            "Gintama Original Soundtrack 1/20 - Fuusen Gamu (TV version)\n",
            "21:20\n",
            "/content/files2/chunk106_1052.017.mp3\n",
            "Gintama Original Soundtrack 1/14 - Koko wa Samurai no Kuni da\n",
            "17:32\n",
            "/content/files2/chunk121_1370.092.mp3\n",
            "Gintama Original Soundtrack 1/20 - Fuusen Gamu (TV version)\n",
            "22:50\n",
            "/content/files2/chunk0_0.698.mp3\n",
            "Gintama Original Soundtrack 1/27 - Temee Raa! Butta Kiru!!\n",
            "00:00\n",
            "/content/files2/chunk90_611.061.mp3\n",
            "Gintama Original Soundtrack 1/23 - Dura Janai Katsura daaa!!\n",
            "10:11\n"
          ],
          "name": "stdout"
        },
        {
          "output_type": "stream",
          "text": [
            "Sun Jul 11 14:19:18 2021 Reading hash table /content/drive/MyDrive/audio/ostp.pklz\n"
          ],
          "name": "stdout"
        }
      ]
    }
  ]
}