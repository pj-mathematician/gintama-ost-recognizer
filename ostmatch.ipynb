{
  "nbformat": 4,
  "nbformat_minor": 0,
  "metadata": {
    "colab": {
      "name": "ostmatch.ipynb",
      "provenance": [],
      "collapsed_sections": [],
      "authorship_tag": "ABX9TyOM9GyqegsgEqzFUxVV1mrq",
      "include_colab_link": true
    },
    "kernelspec": {
      "display_name": "Python 3",
      "name": "python3"
    },
    "language_info": {
      "name": "python"
    }
  },
  "cells": [
    {
      "cell_type": "markdown",
      "metadata": {
        "id": "view-in-github",
        "colab_type": "text"
      },
      "source": [
        "<a href=\"https://colab.research.google.com/github/pj-mathematician/gintama-ost-recognizer/blob/main/ostmatch.ipynb\" target=\"_parent\"><img src=\"https://colab.research.google.com/assets/colab-badge.svg\" alt=\"Open In Colab\"/></a>"
      ]
    },
    {
      "cell_type": "code",
      "metadata": {
        "colab": {
          "base_uri": "https://localhost:8080/"
        },
        "id": "PlI2qkfhGq03",
        "outputId": "15a4d67d-7c7e-4f26-d679-b2e0de21d4f9"
      },
      "source": [
        "from google.colab import drive\n",
        "drive.mount('/content/drive')"
      ],
      "execution_count": 1,
      "outputs": [
        {
          "output_type": "stream",
          "text": [
            "Mounted at /content/drive\n"
          ],
          "name": "stdout"
        }
      ]
    },
    {
      "cell_type": "code",
      "metadata": {
        "id": "O8UTYuBdG2lF"
      },
      "source": [
        "%%capture\n",
        "!pip install -q kurby\n",
        "!pip install -q pydub\n",
        "!apt install sox\n",
        "!wget https://github.com/tsurumeso/vocal-remover/releases/download/v4.0.0/vocal-remover-v4.0.0.zip\n",
        "!unzip -u /content/vocal-remover-v4.0.0.zip \n",
        "!cd vocal-remover && pip install -r requirements.txt\n",
        "!git clone https://github.com/dpwe/audfprint\n",
        "!cd audfprint && pip install -r requirements.txt"
      ],
      "execution_count": null,
      "outputs": []
    },
    {
      "cell_type": "code",
      "metadata": {
        "id": "2ZujNtYyHjET"
      },
      "source": [
        "def download_and_convert(ep):\n",
        "  anime='gintama'\n",
        "  r=!kurby download --nfrom $ep --nto $ep $anime\n",
        "  print(\"Downloaded episode\",ep,\"of\",anime)\n",
        "  #fname=(r[1].replace(\" \",\"\")+\".mp4\")\n",
        "  if ep <10:\n",
        "    path=\"/content/Gintama/Gintama-S00-E00{}.mp4\".format(ep)\n",
        "  elif ep>=10 and ep <100:\n",
        "    path=\"/content/Gintama/Gintama-S00-E0{}.mp4\".format(ep)\n",
        "  else:\n",
        "    path=\"/content/Gintama/Gintama-S00-E{}.mp4\".format(ep)\n",
        "  mname=\"master\"+str(ep)+\".wav\"\n",
        "  f=!ffmpeg -i $path -q:a 0 -map a $mname\n",
        "  #pprint(f)\n",
        "  #!rm $path\n",
        "def batch_convert(eps):\n",
        "  for i in range(1,eps+1):\n",
        "    path=\"/content/Gintama/Gintama-S00-E00{}.mp4\".format(i)\n",
        "    mname=\"master{}.wav\".format(i)\n",
        "    f=!ffmpeg -i $path -q:a 0 -map a $mname\n",
        "    print(mname,\"converted\")\n",
        "    #print(f)\n",
        "def vocal_remove(ep):\n",
        "  path=\"/content/master{}.wav\".format(ep)\n",
        "  path2=\"/content/vocal-remover/master{}_Instruments.wav\".format(ep)\n",
        "  !cd vocal-remover && python inference.py --input $path --tta --postprocess\n",
        "  #!cp $path2 /content/drive/MyDrive/audio"
      ],
      "execution_count": null,
      "outputs": []
    },
    {
      "cell_type": "code",
      "metadata": {
        "id": "1TZt1lqcITN4"
      },
      "source": [
        "download_and_convert(5,\"gintama\")"
      ],
      "execution_count": null,
      "outputs": []
    },
    {
      "cell_type": "code",
      "metadata": {
        "colab": {
          "background_save": true
        },
        "id": "mFBkuoRrPvRB"
      },
      "source": [
        "for i in range(10,15):\n",
        "  download_and_convert(i)\n",
        "  vocal_remove(i)\n",
        "  splitter(i)\n",
        "  analyse(i)"
      ],
      "execution_count": null,
      "outputs": []
    },
    {
      "cell_type": "code",
      "metadata": {
        "colab": {
          "background_save": true
        },
        "id": "1SMhwo2wrHDw"
      },
      "source": [
        "!mkdir files"
      ],
      "execution_count": null,
      "outputs": []
    },
    {
      "cell_type": "code",
      "metadata": {
        "id": "XdFYWw25fRrS"
      },
      "source": [
        "from pydub import AudioSegment\n",
        "from pydub.silence import split_on_silence,detect_nonsilent\n",
        "def match_target_amplitude(aChunk, target_dBFS):\n",
        "    ''' Normalize given audio chunk '''\n",
        "    change_in_dBFS = target_dBFS - aChunk.dBFS\n",
        "    return aChunk.apply_gain(change_in_dBFS)\n",
        "def splitter(j):\n",
        "  print(j)\n",
        "  fol=\"files{}\".format(j)\n",
        "  !mkdir $fol\n",
        "  song = AudioSegment.from_mp3(\"/content/drive/MyDrive/audio/master{}_Instruments.wav\".format(j))\n",
        "  chunks = split_on_silence (\n",
        "      song, \n",
        "      min_silence_len = 500,\n",
        "      silence_thresh = -50\n",
        "  )\n",
        "  l = detect_nonsilent(song, min_silence_len=500,silence_thresh=-50,seek_step=1)\n",
        "  iter=0\n",
        "  for i, chunk in enumerate(chunks):\n",
        "      silence_chunk = AudioSegment.silent(duration=500)\n",
        "      s,e=l[iter]\n",
        "      start=s/1000\n",
        "      audio_chunk = silence_chunk + chunk + silence_chunk\n",
        "      normalized_chunk = match_target_amplitude(audio_chunk, -20.0)\n",
        "      #print(\"/content/files{}/chunk{}_{}.mp3.\".format(j,i,start))\n",
        "      normalized_chunk.export(\n",
        "          \"/content/files{}/chunk{}_{}.mp3\".format(j,i,start),\n",
        "          bitrate = \"192k\",\n",
        "          format = \"mp3\"\n",
        "      )\n",
        "      iter+=1"
      ],
      "execution_count": null,
      "outputs": []
    },
    {
      "cell_type": "code",
      "metadata": {
        "id": "tmR5Jvc9paL1"
      },
      "source": [
        "!zip -r chunk.zip /content/files"
      ],
      "execution_count": null,
      "outputs": []
    },
    {
      "cell_type": "code",
      "metadata": {
        "id": "RCwMlakTuXst"
      },
      "source": [
        "!cp /content/chunk.zip /content/drive/MyDrive/audio"
      ],
      "execution_count": null,
      "outputs": []
    },
    {
      "cell_type": "code",
      "metadata": {
        "id": "Xty24KB6zqbT"
      },
      "source": [
        "import csv\n",
        "import datetime\n",
        "import os\n",
        "f=open(\"/content/drive/MyDrive/ostdata.csv\",\"a\")\n",
        "writer=csv.writer(f)\n",
        "writer.writerow([\"Episode Number\",\"Time Stamp\",\"OST Name\"])\n",
        "f.close()\n",
        "def analyse(j):\n",
        "  f=open(\"ostdata.csv\",\"a\")\n",
        "  writer=csv.writer(f)\n",
        "  directory = os.fsencode(\"/content/files{}\".format(j))\n",
        "  for file in os.listdir(directory):\n",
        "    filename = str(os.fsdecode(file))\n",
        "    #print(filename)\n",
        "    st=\"/content/files{}/\".format(j)+filename\n",
        "    #print(st)\n",
        "    result =!cd audfprint && python audfprint.py match --dbase /content/drive/MyDrive/audio/ostp.pklz $st\n",
        "    #for i in result:\n",
        "      #print(i)\n",
        "      #print()\n",
        "    if result[3].startswith(\"Matched\"):\n",
        "      #print(result)\n",
        "      print(st)\n",
        "      a=result[3].index(\" as \")\n",
        "      at=result[3].index(\" at \")\n",
        "      name=(result[3][a+13:at-4:])\n",
        "      print(name)\n",
        "      un=filename.index(\"_\")\n",
        "      mp=filename.index(\"mp3\")\n",
        "      time=filename[un+1:mp-1:]\n",
        "      #print(time)\n",
        "      ti=((str(datetime.timedelta(seconds=int(float(time))))[2::]))\n",
        "      print(ti)\n",
        "      writer.writerow([\"Episode {}\".format(j),ti,name])\n",
        "    else:\n",
        "      pass\n",
        "  writer.writerow([\"\",\"\",\"\"])\n",
        "      #print(\"nope.\")\n",
        "  f.close()\n",
        "  #!cp \"ostdata.csv\" \"/content/drive/MyDrive/audio\"\n"
      ],
      "execution_count": null,
      "outputs": []
    }
  ]
}